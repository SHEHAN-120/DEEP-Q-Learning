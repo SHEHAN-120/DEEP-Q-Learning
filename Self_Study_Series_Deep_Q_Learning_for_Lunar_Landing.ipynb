{
  "cells": [
    {
      "cell_type": "markdown",
      "metadata": {
        "id": "view-in-github",
        "colab_type": "text"
      },
      "source": [
        "<a href=\"https://colab.research.google.com/github/SHEHAN-120/DEEP-Q-Learning/blob/main/Self_Study_Series_Deep_Q_Learning_for_Lunar_Landing.ipynb\" target=\"_parent\"><img src=\"https://colab.research.google.com/assets/colab-badge.svg\" alt=\"Open In Colab\"/></a>"
      ]
    },
    {
      "cell_type": "markdown",
      "metadata": {
        "id": "LbZcI9ZXHl3a"
      },
      "source": [
        "# Deep Q-Learning for Lunar Landing"
      ]
    },
    {
      "cell_type": "markdown",
      "metadata": {
        "id": "E8yPRjteXgPb"
      },
      "source": [
        "## Part 0 - Installing the required packages and importing the libraries"
      ]
    },
    {
      "cell_type": "markdown",
      "metadata": {
        "id": "slEm5teGWjWU"
      },
      "source": [
        "### Installing Gymnasium"
      ]
    },
    {
      "cell_type": "code",
      "execution_count": null,
      "metadata": {
        "id": "dbnq3XpoKa_7",
        "colab": {
          "base_uri": "https://localhost:8080/"
        },
        "outputId": "c16e0e8c-6c62-4eb4-ba43-d3a3a3b2f027"
      },
      "outputs": [
        {
          "output_type": "stream",
          "name": "stdout",
          "text": [
            "Requirement already satisfied: gymnasium in /usr/local/lib/python3.11/dist-packages (1.1.1)\n",
            "Requirement already satisfied: numpy>=1.21.0 in /usr/local/lib/python3.11/dist-packages (from gymnasium) (2.0.2)\n",
            "Requirement already satisfied: cloudpickle>=1.2.0 in /usr/local/lib/python3.11/dist-packages (from gymnasium) (3.1.1)\n",
            "Requirement already satisfied: typing-extensions>=4.3.0 in /usr/local/lib/python3.11/dist-packages (from gymnasium) (4.14.0)\n",
            "Requirement already satisfied: farama-notifications>=0.0.1 in /usr/local/lib/python3.11/dist-packages (from gymnasium) (0.0.4)\n",
            "Requirement already satisfied: gymnasium[accept-rom-license,atari] in /usr/local/lib/python3.11/dist-packages (1.1.1)\n",
            "\u001b[33mWARNING: gymnasium 1.1.1 does not provide the extra 'accept-rom-license'\u001b[0m\u001b[33m\n",
            "\u001b[0mRequirement already satisfied: numpy>=1.21.0 in /usr/local/lib/python3.11/dist-packages (from gymnasium[accept-rom-license,atari]) (2.0.2)\n",
            "Requirement already satisfied: cloudpickle>=1.2.0 in /usr/local/lib/python3.11/dist-packages (from gymnasium[accept-rom-license,atari]) (3.1.1)\n",
            "Requirement already satisfied: typing-extensions>=4.3.0 in /usr/local/lib/python3.11/dist-packages (from gymnasium[accept-rom-license,atari]) (4.14.0)\n",
            "Requirement already satisfied: farama-notifications>=0.0.1 in /usr/local/lib/python3.11/dist-packages (from gymnasium[accept-rom-license,atari]) (0.0.4)\n",
            "Requirement already satisfied: ale_py>=0.9 in /usr/local/lib/python3.11/dist-packages (from gymnasium[accept-rom-license,atari]) (0.11.1)\n",
            "Reading package lists... Done\n",
            "Building dependency tree... Done\n",
            "Reading state information... Done\n",
            "swig is already the newest version (4.0.2-1ubuntu1).\n",
            "0 upgraded, 0 newly installed, 0 to remove and 35 not upgraded.\n",
            "Requirement already satisfied: gymnasium[box2d] in /usr/local/lib/python3.11/dist-packages (1.1.1)\n",
            "Requirement already satisfied: numpy>=1.21.0 in /usr/local/lib/python3.11/dist-packages (from gymnasium[box2d]) (2.0.2)\n",
            "Requirement already satisfied: cloudpickle>=1.2.0 in /usr/local/lib/python3.11/dist-packages (from gymnasium[box2d]) (3.1.1)\n",
            "Requirement already satisfied: typing-extensions>=4.3.0 in /usr/local/lib/python3.11/dist-packages (from gymnasium[box2d]) (4.14.0)\n",
            "Requirement already satisfied: farama-notifications>=0.0.1 in /usr/local/lib/python3.11/dist-packages (from gymnasium[box2d]) (0.0.4)\n",
            "Requirement already satisfied: box2d-py==2.3.5 in /usr/local/lib/python3.11/dist-packages (from gymnasium[box2d]) (2.3.5)\n",
            "Requirement already satisfied: pygame>=2.1.3 in /usr/local/lib/python3.11/dist-packages (from gymnasium[box2d]) (2.6.1)\n",
            "Requirement already satisfied: swig==4.* in /usr/local/lib/python3.11/dist-packages (from gymnasium[box2d]) (4.3.1)\n"
          ]
        }
      ],
      "source": [
        "!pip install gymnasium\n",
        "!pip install \"gymnasium[atari, accept-rom-license]\"\n",
        "!apt-get install -y swig\n",
        "!pip install gymnasium[box2d]"
      ]
    },
    {
      "cell_type": "markdown",
      "metadata": {
        "id": "brqiMN3UW9T9"
      },
      "source": [
        "### Importing the libraries"
      ]
    },
    {
      "cell_type": "code",
      "execution_count": null,
      "metadata": {
        "id": "mZaKXP_aMl9O"
      },
      "outputs": [],
      "source": [
        "import os\n",
        "import random\n",
        "import numpy as np\n",
        "import torch\n",
        "import torch.nn as nn\n",
        "import torch.optim as optim\n",
        "import torch.nn.functional as F\n",
        "import torch.autograd as autograd\n",
        "from torch.autograd import Variable\n",
        "from collections import deque, namedtuple"
      ]
    },
    {
      "cell_type": "markdown",
      "metadata": {
        "id": "EzlDKXvkXzGI"
      },
      "source": [
        "## Part 1 - Building the AI"
      ]
    },
    {
      "cell_type": "markdown",
      "metadata": {
        "id": "UtG6Zc83YYy3"
      },
      "source": [
        "### Creating the architecture of the Neural Network"
      ]
    },
    {
      "cell_type": "code",
      "source": [
        "class Network(nn.Module):\n",
        "\n",
        "  def __init__(self, state_size, action_size, seed=42):\n",
        "    super(Network, self).__init__()\n",
        "    self.seed = torch.manual_seed(seed)\n",
        "    self.fc1 =nn.Linear(state_size,64)\n",
        "    self.fc2 =nn.Linear(64,64)\n",
        "    self.fc3 =nn.Linear(64,action_size)\n",
        "\n",
        "  def forward(self,state):\n",
        "    x = self.fc1(state)\n",
        "    x = F.relu(x)\n",
        "    x = self.fc2(x)\n",
        "    x = F.relu(x)\n",
        "    return self.fc3(x)\n"
      ],
      "metadata": {
        "id": "dLdMhj7P5sBp"
      },
      "execution_count": null,
      "outputs": []
    },
    {
      "cell_type": "markdown",
      "metadata": {
        "id": "UxVrBnFWZKb1"
      },
      "source": [
        "## Part 2 - Training the AI"
      ]
    },
    {
      "cell_type": "markdown",
      "metadata": {
        "id": "T364fz9qZb2j"
      },
      "source": [
        "### Setting up the environment"
      ]
    },
    {
      "cell_type": "code",
      "source": [
        "import gymnasium as gym\n",
        "env = gym.make('LunarLander-v3') # The Lunar Lander environment was upgraded to v3\n",
        "state_shape = env.observation_space.shape\n",
        "state_size = env.observation_space.shape[0]\n",
        "number_actions = env.action_space.n\n",
        "print('State shape: ', state_shape)\n",
        "print('State size: ', state_size)\n",
        "print('Number of actions: ', number_actions)"
      ],
      "metadata": {
        "colab": {
          "base_uri": "https://localhost:8080/"
        },
        "id": "rKVUY4My9O7V",
        "outputId": "a8125e43-5bd8-4383-cd9f-0c894f23e136"
      },
      "execution_count": null,
      "outputs": [
        {
          "output_type": "stream",
          "name": "stdout",
          "text": [
            "State shape:  (8,)\n",
            "State size:  8\n",
            "Number of actions:  4\n"
          ]
        }
      ]
    },
    {
      "cell_type": "markdown",
      "metadata": {
        "id": "c_dZmOIvZgj-"
      },
      "source": [
        "### Initializing the hyperparameters"
      ]
    },
    {
      "cell_type": "code",
      "source": [
        "learning_rate = 5e-4\n",
        "minibatch_size = 100\n",
        "discount_factor = 0.99\n",
        "replay_buffer_size = int(1e5)\n",
        "interpolation_parameter = 1e-3"
      ],
      "metadata": {
        "id": "SXDUtwLt-9Gj"
      },
      "execution_count": null,
      "outputs": []
    },
    {
      "cell_type": "markdown",
      "metadata": {
        "id": "8hD_Vs-bYnip"
      },
      "source": [
        "### Implementing Experience Replay"
      ]
    },
    {
      "cell_type": "code",
      "source": [
        "class ReplayMemory(object):\n",
        "\n",
        "  def __init__(self, capacity):\n",
        "    self.device = torch.device(\"cuda:0\" if torch.cuda.is_available() else \"cpu\")\n",
        "    self.capacity = capacity\n",
        "    self.memory = []\n",
        "\n",
        "  def push(self, event):\n",
        "    self.memory.append(event)\n",
        "    if len(self.memory) > self.capacity:\n",
        "      del self.memory[0]\n",
        "\n",
        "  def sample(self, batch_size):\n",
        "    experiences = random.sample(self.memory, k = batch_size)\n",
        "    states = torch.from_numpy(np.vstack([e[0] for e in experiences if e is not None])).float().to(self.device)\n",
        "    actions = torch.from_numpy(np.vstack([e[1] for e in experiences if e is not None])).long().to(self.device)\n",
        "    rewards = torch.from_numpy(np.vstack([e[2] for e in experiences if e is not None])).float().to(self.device)\n",
        "    next_states = torch.from_numpy(np.vstack([e[3] for e in experiences if e is not None])).float().to(self.device)\n",
        "    dones = torch.from_numpy(np.vstack([e[4] for e in experiences if e is not None]).astype(np.uint8)).float().to(self.device)\n",
        "    return states, next_states, actions, rewards, dones"
      ],
      "metadata": {
        "id": "a6_kcmsx_4Ko"
      },
      "execution_count": null,
      "outputs": []
    },
    {
      "cell_type": "markdown",
      "metadata": {
        "id": "JmEkbFbUY6Jt"
      },
      "source": [
        "### Implementing the DQN class"
      ]
    },
    {
      "cell_type": "code",
      "source": [
        "class Agent():\n",
        "\n",
        "  def __init__(self, state_size, action_size):\n",
        "    self.device = torch.device(\"cuda:0\" if torch.cuda.is_available() else \"cpu\")\n",
        "    self.state_size = state_size\n",
        "    self.action_size = action_size\n",
        "    self.local_qnetwork = Network(state_size, action_size).to(self.device)\n",
        "    self.target_qnetwork = Network(state_size, action_size).to(self.device)\n",
        "    self.optimizer = optim.Adam(self.local_qnetwork.parameters(), lr = learning_rate)\n",
        "    self.memory = ReplayMemory(replay_buffer_size)\n",
        "    self.t_step = 0\n",
        "\n",
        "  def step(self, state, action, reward, next_state, done):\n",
        "    self.memory.push((state, action, reward, next_state, done))\n",
        "    self.t_step = (self.t_step + 1) % 4\n",
        "    if self.t_step == 0:\n",
        "      if len(self.memory.memory) > minibatch_size:\n",
        "        experiences = self.memory.sample(100)\n",
        "        self.learn(experiences, discount_factor)\n",
        "\n",
        "  def act(self, state, epsilon = 0.):\n",
        "    state = torch.from_numpy(state).float().unsqueeze(0).to(self.device)\n",
        "    self.local_qnetwork.eval()\n",
        "    with torch.no_grad():\n",
        "      action_values = self.local_qnetwork(state)\n",
        "    self.local_qnetwork.train()\n",
        "    if random.random() > epsilon:\n",
        "      return np.argmax(action_values.cpu().data.numpy())\n",
        "    else:\n",
        "      return random.choice(np.arange(self.action_size))\n",
        "\n",
        "  def learn(self, experiences, discount_factor):\n",
        "    states, next_states, actions, rewards, dones = experiences\n",
        "    next_q_targets = self.target_qnetwork(next_states).detach().max(1)[0].unsqueeze(1)\n",
        "    q_targets = rewards + discount_factor * next_q_targets * (1 - dones)\n",
        "    q_expected = self.local_qnetwork(states).gather(1, actions)\n",
        "    loss = F.mse_loss(q_expected, q_targets)\n",
        "    self.optimizer.zero_grad()\n",
        "    loss.backward()\n",
        "    self.optimizer.step()\n",
        "    self.soft_update(self.local_qnetwork, self.target_qnetwork, interpolation_parameter)\n",
        "\n",
        "  def soft_update(self, local_model, target_model, interpolation_parameter):\n",
        "    for target_param, local_param in zip(target_model.parameters(), local_model.parameters()):\n",
        "      target_param.data.copy_(interpolation_parameter * local_param.data + (1.0 - interpolation_parameter) * target_param.data)"
      ],
      "metadata": {
        "id": "iRsSyy-gDlax"
      },
      "execution_count": null,
      "outputs": []
    },
    {
      "cell_type": "markdown",
      "metadata": {
        "id": "o1tZElccZmf6"
      },
      "source": [
        "### Initializing the DQN agent"
      ]
    },
    {
      "cell_type": "code",
      "source": [
        "agent = Agent(state_size,number_actions)"
      ],
      "metadata": {
        "id": "YzUPYpFtO6zT"
      },
      "execution_count": null,
      "outputs": []
    },
    {
      "cell_type": "markdown",
      "metadata": {
        "id": "E8v0PtUfaVQp"
      },
      "source": [
        "### Training the DQN agent"
      ]
    },
    {
      "cell_type": "code",
      "source": [
        "number_episodes = 2000\n",
        "maximum_number_timesteps_per_episode = 1000\n",
        "epsilon_starting_value = 1.0\n",
        "epsilon_ending_value = 0.01\n",
        "epsilon_decay_value = 0.995\n",
        "epsilon = epsilon_starting_value\n",
        "scores_on_100_episodes = deque(maxlen=100)\n",
        "\n",
        "for episode in range(1, number_episodes + 1):\n",
        "  state, _ = env.reset()\n",
        "  score = 0\n",
        "  for t in range(maximum_number_timesteps_per_episode):\n",
        "    action = agent.act(state, epsilon)\n",
        "    next_state, reward, done, _, _ = env.step(action)\n",
        "    agent.step(state, action, reward, next_state, done)\n",
        "    state = next_state\n",
        "    score += reward\n",
        "    if done:\n",
        "      break\n",
        "  scores_on_100_episodes.append(score)\n",
        "  epsilon = max(epsilon_ending_value, epsilon_decay_value * epsilon)\n",
        "  print('\\rEpisode {}\\tAverage Score: {:.2f}'.format(episode, np.mean(scores_on_100_episodes)), end = \"\")\n",
        "  if episode % 100 == 0:\n",
        "    print('\\rEpisode {}\\tAverage Score: {:.2f}'.format(episode, np.mean(scores_on_100_episodes)))\n",
        "  if np.mean(scores_on_100_episodes) >= 200.0:\n",
        "    print('\\nEnvironment solved in {:d} episodes!\\tAverage Score: {:.2f}'.format(episode - 100, np.mean(scores_on_100_episodes)))\n",
        "    torch.save(agent.local_qnetwork.state_dict(), 'checkpoint.pth')\n",
        "    break\n"
      ],
      "metadata": {
        "id": "y2kjr4_ZbKka",
        "outputId": "aa4e5a32-66ee-40cf-b652-fd0a16533489",
        "colab": {
          "base_uri": "https://localhost:8080/"
        }
      },
      "execution_count": null,
      "outputs": [
        {
          "output_type": "stream",
          "name": "stdout",
          "text": [
            "Episode 100\tAverage Score: -168.14\n",
            "Episode 200\tAverage Score: -106.11\n",
            "Episode 300\tAverage Score: -20.88\n",
            "Episode 400\tAverage Score: 26.73\n",
            "Episode 500\tAverage Score: 107.16\n",
            "Episode 600\tAverage Score: 176.10\n",
            "Episode 687\tAverage Score: 200.15\n",
            "Environment solved in 587 episodes!\tAverage Score: 200.15\n"
          ]
        }
      ]
    },
    {
      "cell_type": "markdown",
      "metadata": {
        "id": "O8CNwdOTcCoP"
      },
      "source": [
        "## Part 3 - Visualizing the results"
      ]
    },
    {
      "cell_type": "code",
      "execution_count": null,
      "metadata": {
        "id": "cb9nVvU2Okhk",
        "colab": {
          "base_uri": "https://localhost:8080/",
          "height": 458
        },
        "outputId": "578d35dc-b87f-47ee-ba21-74a0e79df8dd"
      },
      "outputs": [
        {
          "output_type": "stream",
          "name": "stderr",
          "text": [
            "WARNING:imageio_ffmpeg:IMAGEIO FFMPEG_WRITER WARNING: input image is not divisible by macro_block_size=16, resizing from (600, 400) to (608, 400) to ensure video compatibility with most codecs and players. To prevent resizing, make your input image divisible by the macro_block_size or set the macro_block_size to 1 (risking incompatibility).\n"
          ]
        },
        {
          "output_type": "display_data",
          "data": {
            "text/plain": [
              "<IPython.core.display.HTML object>"
            ],
            "text/html": [
              "<video alt=\"test\" autoplay\n",
              "                loop controls style=\"height: 400px;\">\n",
              "                <source src=\"data:video/mp4;base64,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\" type=\"video/mp4\" />\n",
              "             </video>"
            ]
          },
          "metadata": {}
        }
      ],
      "source": [
        "import glob\n",
        "import io\n",
        "import base64\n",
        "import imageio\n",
        "from IPython.display import HTML, display\n",
        "\n",
        "def show_video_of_model(agent, env_name):\n",
        "    env = gym.make(env_name, render_mode='rgb_array')\n",
        "    state, _ = env.reset()\n",
        "    done = False\n",
        "    frames = []\n",
        "    while not done:\n",
        "        frame = env.render()\n",
        "        frames.append(frame)\n",
        "        action = agent.act(state)\n",
        "        state, reward, done, _, _ = env.step(action.item())\n",
        "    env.close()\n",
        "    imageio.mimsave('video.mp4', frames, fps=30)\n",
        "\n",
        "show_video_of_model(agent, 'LunarLander-v3')\n",
        "\n",
        "def show_video():\n",
        "    mp4list = glob.glob('*.mp4')\n",
        "    if len(mp4list) > 0:\n",
        "        mp4 = mp4list[0]\n",
        "        video = io.open(mp4, 'r+b').read()\n",
        "        encoded = base64.b64encode(video)\n",
        "        display(HTML(data='''<video alt=\"test\" autoplay\n",
        "                loop controls style=\"height: 400px;\">\n",
        "                <source src=\"data:video/mp4;base64,{0}\" type=\"video/mp4\" />\n",
        "             </video>'''.format(encoded.decode('ascii'))))\n",
        "    else:\n",
        "        print(\"Could not find video\")\n",
        "\n",
        "show_video()"
      ]
    }
  ],
  "metadata": {
    "colab": {
      "provenance": [],
      "include_colab_link": true
    },
    "kernelspec": {
      "display_name": "Python 3",
      "name": "python3"
    },
    "language_info": {
      "name": "python"
    }
  },
  "nbformat": 4,
  "nbformat_minor": 0
}